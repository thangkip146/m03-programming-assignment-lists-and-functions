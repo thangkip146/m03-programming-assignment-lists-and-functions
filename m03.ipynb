{
 "cells": [
  {
   "cell_type": "code",
   "execution_count": 1,
   "id": "ccc28dbf",
   "metadata": {},
   "outputs": [],
   "source": [
    "# 7.4 Make a list called things with these three strings as elemenst:\n",
    "# \"mozzarella\", \"cinderella\", \"salmonella\"\n",
    "\n",
    "things = [\"mozzarella\", \"cinderella\", \"salmonella\"]"
   ]
  },
  {
   "cell_type": "code",
   "execution_count": 2,
   "id": "deeb3aca",
   "metadata": {},
   "outputs": [
    {
     "name": "stdout",
     "output_type": "stream",
     "text": [
      "mozzarella\n",
      "Cinderella\n",
      "salmonella\n"
     ]
    }
   ],
   "source": [
    "# 7.5 Capitalize the element in things that refers to a person and then\n",
    "# print the list. Did it change the element in the list?\n",
    "\n",
    "things[1] = things[1].capitalize()\n",
    "for thing in things:\n",
    "    print(thing)"
   ]
  },
  {
   "cell_type": "code",
   "execution_count": 4,
   "id": "aed9e5f5",
   "metadata": {},
   "outputs": [
    {
     "name": "stdout",
     "output_type": "stream",
     "text": [
      "MOZZARELLA\n",
      "Cinderella\n",
      "salmonella\n"
     ]
    }
   ],
   "source": [
    "# 7.6 Make the chessy element of things all uppercase and then print\n",
    "# the list.\n",
    "\n",
    "things[0] = things[0].upper()\n",
    "for thing in things:\n",
    "    print(thing)"
   ]
  },
  {
   "cell_type": "code",
   "execution_count": 5,
   "id": "e3828f9e",
   "metadata": {},
   "outputs": [
    {
     "name": "stdout",
     "output_type": "stream",
     "text": [
      "MOZZARELLA\n",
      "Cinderella\n"
     ]
    }
   ],
   "source": [
    "# 7.7 Delete dises element from things, collect your Nobel Prize,\n",
    "# and print the list.\n",
    "\n",
    "things.remove(things[2])\n",
    "for thing in things:\n",
    "    print(thing)"
   ]
  },
  {
   "cell_type": "code",
   "execution_count": 6,
   "id": "616f1ee8",
   "metadata": {},
   "outputs": [],
   "source": [
    "# 9.1 Define a function called good() that returns the following list:\n",
    "# ['Harry', 'Ron', 'Hermione']\n",
    "\n",
    "def good():\n",
    "    return ['Harry', 'Ron', 'Hermione']"
   ]
  },
  {
   "cell_type": "code",
   "execution_count": 15,
   "id": "5dd031c1",
   "metadata": {},
   "outputs": [
    {
     "name": "stdout",
     "output_type": "stream",
     "text": [
      "5\n"
     ]
    }
   ],
   "source": [
    "# 9.2 Define a generator function called get_odds() that returns \n",
    "# the odd numbers from range(10). Use a for loop to find and print the \n",
    "# third value returned.\n",
    "\n",
    "def get_odds():\n",
    "    odd_numbers = []\n",
    "    for x in range(10):\n",
    "        if x % 2 != 0:\n",
    "            odd_numbers.append(x)\n",
    "    return odd_numbers\n",
    "\n",
    "# I don't really understand what it means by \"thrid value returned\"\n",
    "# and find it using for loop\n",
    "count = 0\n",
    "for x in get_odds():\n",
    "    #print(x)\n",
    "    if count == 2:\n",
    "        print(x)\n",
    "    count += 1"
   ]
  },
  {
   "cell_type": "code",
   "execution_count": null,
   "id": "455b2833",
   "metadata": {},
   "outputs": [],
   "source": []
  },
  {
   "cell_type": "code",
   "execution_count": null,
   "id": "28a4bcc3",
   "metadata": {},
   "outputs": [],
   "source": []
  }
 ],
 "metadata": {
  "kernelspec": {
   "display_name": "Python 3 (ipykernel)",
   "language": "python",
   "name": "python3"
  },
  "language_info": {
   "codemirror_mode": {
    "name": "ipython",
    "version": 3
   },
   "file_extension": ".py",
   "mimetype": "text/x-python",
   "name": "python",
   "nbconvert_exporter": "python",
   "pygments_lexer": "ipython3",
   "version": "3.9.13"
  }
 },
 "nbformat": 4,
 "nbformat_minor": 5
}
